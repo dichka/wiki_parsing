{
 "cells": [
  {
   "cell_type": "markdown",
   "metadata": {},
   "source": [
    "# Big_Data parsing city"
   ]
  },
  {
   "cell_type": "code",
   "execution_count": 1,
   "metadata": {},
   "outputs": [],
   "source": [
    "# import libraries\n",
    "import pandas as pd\n",
    "import numpy as np\n",
    "import math\n",
    "\n",
    "from bs4 import BeautifulSoup as bs\n",
    "import requests\n",
    "\n",
    "import urllib.request, urllib.parse, urllib.error\n",
    "import json\n",
    "import ssl\n",
    "\n",
    "# Ignore SSL certificate errors\n",
    "ctx = ssl.create_default_context()\n",
    "ctx.check_hostname = False\n",
    "ctx.verify_mode = ssl.CERT_NONE"
   ]
  },
  {
   "cell_type": "markdown",
   "metadata": {},
   "source": [
    "## Parsing from Wikipedia"
   ]
  },
  {
   "cell_type": "code",
   "execution_count": 2,
   "metadata": {},
   "outputs": [],
   "source": [
    "url = 'https://en.wikipedia.org/wiki/List_of_cities_and_towns_in_Russia_by_population'\n",
    "soup = bs(requests.get(url).text, 'html.parser')\n",
    " \n",
    "trs = soup.select('table.sortable tr')\n",
    " \n",
    "city_pop_pars = []\n",
    " \n",
    "for tr in trs:\n",
    "    if tr.td and (tr.select('td[style]')[0].text.rstrip().replace(',', '')).isdigit():\n",
    "        name = tr.td.text.rstrip()\n",
    "        population = tr.select('td[style]')[0].text.rstrip().replace(',', '')\n",
    "        city_pop_pars.append((name, int(population)))"
   ]
  },
  {
   "cell_type": "code",
   "execution_count": 3,
   "metadata": {},
   "outputs": [],
   "source": [
    "city = pd.DataFrame(city_pop_pars, columns = ['name', 'population'] )"
   ]
  },
  {
   "cell_type": "code",
   "execution_count": 4,
   "metadata": {
    "scrolled": true
   },
   "outputs": [
    {
     "data": {
      "text/html": [
       "<div>\n",
       "<style scoped>\n",
       "    .dataframe tbody tr th:only-of-type {\n",
       "        vertical-align: middle;\n",
       "    }\n",
       "\n",
       "    .dataframe tbody tr th {\n",
       "        vertical-align: top;\n",
       "    }\n",
       "\n",
       "    .dataframe thead th {\n",
       "        text-align: right;\n",
       "    }\n",
       "</style>\n",
       "<table border=\"1\" class=\"dataframe\">\n",
       "  <thead>\n",
       "    <tr style=\"text-align: right;\">\n",
       "      <th></th>\n",
       "      <th>name</th>\n",
       "      <th>population</th>\n",
       "    </tr>\n",
       "  </thead>\n",
       "  <tbody>\n",
       "    <tr>\n",
       "      <td>0</td>\n",
       "      <td>Moscow</td>\n",
       "      <td>12480481</td>\n",
       "    </tr>\n",
       "    <tr>\n",
       "      <td>1</td>\n",
       "      <td>Saint Petersburg</td>\n",
       "      <td>5398064</td>\n",
       "    </tr>\n",
       "    <tr>\n",
       "      <td>2</td>\n",
       "      <td>Novosibirsk</td>\n",
       "      <td>1625631</td>\n",
       "    </tr>\n",
       "    <tr>\n",
       "      <td>3</td>\n",
       "      <td>Yekaterinburg</td>\n",
       "      <td>1493749</td>\n",
       "    </tr>\n",
       "    <tr>\n",
       "      <td>4</td>\n",
       "      <td>Kazan</td>\n",
       "      <td>1257391</td>\n",
       "    </tr>\n",
       "    <tr>\n",
       "      <td>...</td>\n",
       "      <td>...</td>\n",
       "      <td>...</td>\n",
       "    </tr>\n",
       "    <tr>\n",
       "      <td>312</td>\n",
       "      <td>Salekhard</td>\n",
       "      <td>50976</td>\n",
       "    </tr>\n",
       "    <tr>\n",
       "      <td>313</td>\n",
       "      <td>Timashyovsk</td>\n",
       "      <td>50792</td>\n",
       "    </tr>\n",
       "    <tr>\n",
       "      <td>314</td>\n",
       "      <td>Kirishi</td>\n",
       "      <td>50525</td>\n",
       "    </tr>\n",
       "    <tr>\n",
       "      <td>315</td>\n",
       "      <td>Solnechnogorsk</td>\n",
       "      <td>50169</td>\n",
       "    </tr>\n",
       "    <tr>\n",
       "      <td>316</td>\n",
       "      <td>Cheremkhovo</td>\n",
       "      <td>50154</td>\n",
       "    </tr>\n",
       "  </tbody>\n",
       "</table>\n",
       "<p>317 rows × 2 columns</p>\n",
       "</div>"
      ],
      "text/plain": [
       "                 name  population\n",
       "0              Moscow    12480481\n",
       "1    Saint Petersburg     5398064\n",
       "2         Novosibirsk     1625631\n",
       "3       Yekaterinburg     1493749\n",
       "4               Kazan     1257391\n",
       "..                ...         ...\n",
       "312         Salekhard       50976\n",
       "313       Timashyovsk       50792\n",
       "314           Kirishi       50525\n",
       "315    Solnechnogorsk       50169\n",
       "316       Cheremkhovo       50154\n",
       "\n",
       "[317 rows x 2 columns]"
      ]
     },
     "execution_count": 4,
     "metadata": {},
     "output_type": "execute_result"
    }
   ],
   "source": [
    "city"
   ]
  },
  {
   "cell_type": "code",
   "execution_count": 5,
   "metadata": {},
   "outputs": [],
   "source": [
    "api_key = 42\n",
    "serviceurl = 'http://py4e-data.dr-chuck.net/json?'"
   ]
  },
  {
   "cell_type": "code",
   "execution_count": 6,
   "metadata": {},
   "outputs": [],
   "source": [
    "city['lng'] = np.array(city.shape[0])\n",
    "city['lat'] = np.array(city.shape[0])"
   ]
  },
  {
   "cell_type": "code",
   "execution_count": 7,
   "metadata": {},
   "outputs": [
    {
     "name": "stderr",
     "output_type": "stream",
     "text": [
      "D:\\Programs\\Anaconda\\lib\\site-packages\\ipykernel_launcher.py:27: SettingWithCopyWarning: \n",
      "A value is trying to be set on a copy of a slice from a DataFrame\n",
      "\n",
      "See the caveats in the documentation: http://pandas.pydata.org/pandas-docs/stable/user_guide/indexing.html#returning-a-view-versus-a-copy\n",
      "D:\\Programs\\Anaconda\\lib\\site-packages\\ipykernel_launcher.py:28: SettingWithCopyWarning: \n",
      "A value is trying to be set on a copy of a slice from a DataFrame\n",
      "\n",
      "See the caveats in the documentation: http://pandas.pydata.org/pandas-docs/stable/user_guide/indexing.html#returning-a-view-versus-a-copy\n"
     ]
    },
    {
     "name": "stdout",
     "output_type": "stream",
     "text": [
      "==== Failure To Retrieve ====\n",
      "{\n",
      "   \"results\" : [],\n",
      "   \"status\" : \"ZERO_RESULTS\"\n",
      "}\n",
      "\n",
      "==== Failure To Retrieve ====\n",
      "{\n",
      "   \"results\" : [],\n",
      "   \"status\" : \"ZERO_RESULTS\"\n",
      "}\n",
      "\n",
      "==== Failure To Retrieve ====\n",
      "{\n",
      "   \"results\" : [],\n",
      "   \"status\" : \"ZERO_RESULTS\"\n",
      "}\n",
      "\n",
      "==== Failure To Retrieve ====\n",
      "{\n",
      "   \"results\" : [],\n",
      "   \"status\" : \"ZERO_RESULTS\"\n",
      "}\n",
      "\n",
      "==== Failure To Retrieve ====\n",
      "{\n",
      "   \"results\" : [],\n",
      "   \"status\" : \"ZERO_RESULTS\"\n",
      "}\n",
      "\n"
     ]
    }
   ],
   "source": [
    "for row in range(len(city)):\n",
    "    address = city['name'][row]\n",
    "\n",
    "    parms = dict()\n",
    "    parms['address'] = address\n",
    "    if api_key is not False: parms['key'] = api_key\n",
    "    url = serviceurl + urllib.parse.urlencode(parms)\n",
    "\n",
    "    # print('Retrieving', url)\n",
    "    uh = urllib.request.urlopen(url, context=ctx)\n",
    "    data = uh.read().decode()\n",
    "    # print('Retrieved', len(data), 'characters')\n",
    "\n",
    "    try:\n",
    "        js = json.loads(data)\n",
    "    except:\n",
    "        js = None\n",
    "\n",
    "    if not js or 'status' not in js or js['status'] != 'OK':\n",
    "        print('==== Failure To Retrieve ====')\n",
    "        print(data)\n",
    "        continue\n",
    "        city['lat'][row] = -1\n",
    "        city['lng'][row] = -1\n",
    "        print(js['results'][0]['geometry']['location']['lng'], \"{}\".format(len(js['results'])))\n",
    "    else:\n",
    "        city['lat'][row] = js['results'][0]['geometry']['location']['lat']\n",
    "        city['lng'][row] = js['results'][0]['geometry']['location']['lng']\n",
    "\n",
    "    # print('lat', lat, 'lng', lng)\n",
    "    # location = js['results'][0]['formatted_address']\n",
    "    # print(location)"
   ]
  },
  {
   "cell_type": "markdown",
   "metadata": {},
   "source": [
    "## Review of Data"
   ]
  },
  {
   "cell_type": "code",
   "execution_count": 9,
   "metadata": {
    "scrolled": true
   },
   "outputs": [
    {
     "data": {
      "text/html": [
       "<div>\n",
       "<style scoped>\n",
       "    .dataframe tbody tr th:only-of-type {\n",
       "        vertical-align: middle;\n",
       "    }\n",
       "\n",
       "    .dataframe tbody tr th {\n",
       "        vertical-align: top;\n",
       "    }\n",
       "\n",
       "    .dataframe thead th {\n",
       "        text-align: right;\n",
       "    }\n",
       "</style>\n",
       "<table border=\"1\" class=\"dataframe\">\n",
       "  <thead>\n",
       "    <tr style=\"text-align: right;\">\n",
       "      <th></th>\n",
       "      <th>name</th>\n",
       "      <th>population</th>\n",
       "      <th>lng</th>\n",
       "      <th>lat</th>\n",
       "    </tr>\n",
       "  </thead>\n",
       "  <tbody>\n",
       "    <tr>\n",
       "      <td>0</td>\n",
       "      <td>Moscow</td>\n",
       "      <td>12480481</td>\n",
       "      <td>37</td>\n",
       "      <td>55</td>\n",
       "    </tr>\n",
       "    <tr>\n",
       "      <td>1</td>\n",
       "      <td>Saint Petersburg</td>\n",
       "      <td>5398064</td>\n",
       "      <td>30</td>\n",
       "      <td>59</td>\n",
       "    </tr>\n",
       "    <tr>\n",
       "      <td>2</td>\n",
       "      <td>Novosibirsk</td>\n",
       "      <td>1625631</td>\n",
       "      <td>82</td>\n",
       "      <td>54</td>\n",
       "    </tr>\n",
       "    <tr>\n",
       "      <td>3</td>\n",
       "      <td>Yekaterinburg</td>\n",
       "      <td>1493749</td>\n",
       "      <td>60</td>\n",
       "      <td>56</td>\n",
       "    </tr>\n",
       "    <tr>\n",
       "      <td>4</td>\n",
       "      <td>Kazan</td>\n",
       "      <td>1257391</td>\n",
       "      <td>49</td>\n",
       "      <td>55</td>\n",
       "    </tr>\n",
       "    <tr>\n",
       "      <td>...</td>\n",
       "      <td>...</td>\n",
       "      <td>...</td>\n",
       "      <td>...</td>\n",
       "      <td>...</td>\n",
       "    </tr>\n",
       "    <tr>\n",
       "      <td>312</td>\n",
       "      <td>Salekhard</td>\n",
       "      <td>50976</td>\n",
       "      <td>66</td>\n",
       "      <td>66</td>\n",
       "    </tr>\n",
       "    <tr>\n",
       "      <td>313</td>\n",
       "      <td>Timashyovsk</td>\n",
       "      <td>50792</td>\n",
       "      <td>38</td>\n",
       "      <td>45</td>\n",
       "    </tr>\n",
       "    <tr>\n",
       "      <td>314</td>\n",
       "      <td>Kirishi</td>\n",
       "      <td>50525</td>\n",
       "      <td>32</td>\n",
       "      <td>59</td>\n",
       "    </tr>\n",
       "    <tr>\n",
       "      <td>315</td>\n",
       "      <td>Solnechnogorsk</td>\n",
       "      <td>50169</td>\n",
       "      <td>36</td>\n",
       "      <td>56</td>\n",
       "    </tr>\n",
       "    <tr>\n",
       "      <td>316</td>\n",
       "      <td>Cheremkhovo</td>\n",
       "      <td>50154</td>\n",
       "      <td>103</td>\n",
       "      <td>53</td>\n",
       "    </tr>\n",
       "  </tbody>\n",
       "</table>\n",
       "<p>317 rows × 4 columns</p>\n",
       "</div>"
      ],
      "text/plain": [
       "                 name  population  lng  lat\n",
       "0              Moscow    12480481   37   55\n",
       "1    Saint Petersburg     5398064   30   59\n",
       "2         Novosibirsk     1625631   82   54\n",
       "3       Yekaterinburg     1493749   60   56\n",
       "4               Kazan     1257391   49   55\n",
       "..                ...         ...  ...  ...\n",
       "312         Salekhard       50976   66   66\n",
       "313       Timashyovsk       50792   38   45\n",
       "314           Kirishi       50525   32   59\n",
       "315    Solnechnogorsk       50169   36   56\n",
       "316       Cheremkhovo       50154  103   53\n",
       "\n",
       "[317 rows x 4 columns]"
      ]
     },
     "execution_count": 9,
     "metadata": {},
     "output_type": "execute_result"
    }
   ],
   "source": [
    "city"
   ]
  },
  {
   "cell_type": "code",
   "execution_count": 10,
   "metadata": {
    "scrolled": true
   },
   "outputs": [
    {
     "name": "stdout",
     "output_type": "stream",
     "text": [
      "<class 'pandas.core.frame.DataFrame'>\n",
      "RangeIndex: 317 entries, 0 to 316\n",
      "Data columns (total 4 columns):\n",
      "name          317 non-null object\n",
      "population    317 non-null int64\n",
      "lng           317 non-null int32\n",
      "lat           317 non-null int32\n",
      "dtypes: int32(2), int64(1), object(1)\n",
      "memory usage: 7.6+ KB\n"
     ]
    }
   ],
   "source": [
    "city.info()"
   ]
  },
  {
   "cell_type": "code",
   "execution_count": 11,
   "metadata": {
    "scrolled": true
   },
   "outputs": [
    {
     "data": {
      "text/plain": [
       "0    37\n",
       "Name: lng, dtype: int32"
      ]
     },
     "execution_count": 11,
     "metadata": {},
     "output_type": "execute_result"
    }
   ],
   "source": [
    "# данная API выводит слишком сокрашенные данные \n",
    "city[city['name'] == 'Moscow']['lng']"
   ]
  },
  {
   "cell_type": "code",
   "execution_count": 12,
   "metadata": {
    "scrolled": true
   },
   "outputs": [
    {
     "data": {
      "text/html": [
       "<div>\n",
       "<style scoped>\n",
       "    .dataframe tbody tr th:only-of-type {\n",
       "        vertical-align: middle;\n",
       "    }\n",
       "\n",
       "    .dataframe tbody tr th {\n",
       "        vertical-align: top;\n",
       "    }\n",
       "\n",
       "    .dataframe thead th {\n",
       "        text-align: right;\n",
       "    }\n",
       "</style>\n",
       "<table border=\"1\" class=\"dataframe\">\n",
       "  <thead>\n",
       "    <tr style=\"text-align: right;\">\n",
       "      <th></th>\n",
       "      <th>population</th>\n",
       "      <th>lng</th>\n",
       "      <th>lat</th>\n",
       "    </tr>\n",
       "  </thead>\n",
       "  <tbody>\n",
       "    <tr>\n",
       "      <td>count</td>\n",
       "      <td>3.170000e+02</td>\n",
       "      <td>317.000000</td>\n",
       "      <td>317.000000</td>\n",
       "    </tr>\n",
       "    <tr>\n",
       "      <td>mean</td>\n",
       "      <td>2.695937e+05</td>\n",
       "      <td>55.470032</td>\n",
       "      <td>56.782334</td>\n",
       "    </tr>\n",
       "    <tr>\n",
       "      <td>std</td>\n",
       "      <td>7.915089e+05</td>\n",
       "      <td>48.557644</td>\n",
       "      <td>33.551018</td>\n",
       "    </tr>\n",
       "    <tr>\n",
       "      <td>min</td>\n",
       "      <td>5.015400e+04</td>\n",
       "      <td>-122.000000</td>\n",
       "      <td>33.000000</td>\n",
       "    </tr>\n",
       "    <tr>\n",
       "      <td>25%</td>\n",
       "      <td>6.634400e+04</td>\n",
       "      <td>38.000000</td>\n",
       "      <td>50.000000</td>\n",
       "    </tr>\n",
       "    <tr>\n",
       "      <td>50%</td>\n",
       "      <td>1.055310e+05</td>\n",
       "      <td>45.000000</td>\n",
       "      <td>54.000000</td>\n",
       "    </tr>\n",
       "    <tr>\n",
       "      <td>75%</td>\n",
       "      <td>2.400200e+05</td>\n",
       "      <td>60.000000</td>\n",
       "      <td>56.000000</td>\n",
       "    </tr>\n",
       "    <tr>\n",
       "      <td>max</td>\n",
       "      <td>1.248048e+07</td>\n",
       "      <td>317.000000</td>\n",
       "      <td>317.000000</td>\n",
       "    </tr>\n",
       "  </tbody>\n",
       "</table>\n",
       "</div>"
      ],
      "text/plain": [
       "         population         lng         lat\n",
       "count  3.170000e+02  317.000000  317.000000\n",
       "mean   2.695937e+05   55.470032   56.782334\n",
       "std    7.915089e+05   48.557644   33.551018\n",
       "min    5.015400e+04 -122.000000   33.000000\n",
       "25%    6.634400e+04   38.000000   50.000000\n",
       "50%    1.055310e+05   45.000000   54.000000\n",
       "75%    2.400200e+05   60.000000   56.000000\n",
       "max    1.248048e+07  317.000000  317.000000"
      ]
     },
     "execution_count": 12,
     "metadata": {},
     "output_type": "execute_result"
    }
   ],
   "source": [
    "city.describe()"
   ]
  },
  {
   "cell_type": "code",
   "execution_count": 13,
   "metadata": {
    "scrolled": true
   },
   "outputs": [
    {
     "data": {
      "text/html": [
       "<div>\n",
       "<style scoped>\n",
       "    .dataframe tbody tr th:only-of-type {\n",
       "        vertical-align: middle;\n",
       "    }\n",
       "\n",
       "    .dataframe tbody tr th {\n",
       "        vertical-align: top;\n",
       "    }\n",
       "\n",
       "    .dataframe thead th {\n",
       "        text-align: right;\n",
       "    }\n",
       "</style>\n",
       "<table border=\"1\" class=\"dataframe\">\n",
       "  <thead>\n",
       "    <tr style=\"text-align: right;\">\n",
       "      <th></th>\n",
       "      <th>name</th>\n",
       "      <th>population</th>\n",
       "      <th>lng</th>\n",
       "      <th>lat</th>\n",
       "    </tr>\n",
       "  </thead>\n",
       "  <tbody>\n",
       "    <tr>\n",
       "      <td>0</td>\n",
       "      <td>Moscow</td>\n",
       "      <td>12480481</td>\n",
       "      <td>37</td>\n",
       "      <td>55</td>\n",
       "    </tr>\n",
       "    <tr>\n",
       "      <td>1</td>\n",
       "      <td>Saint Petersburg</td>\n",
       "      <td>5398064</td>\n",
       "      <td>30</td>\n",
       "      <td>59</td>\n",
       "    </tr>\n",
       "    <tr>\n",
       "      <td>2</td>\n",
       "      <td>Novosibirsk</td>\n",
       "      <td>1625631</td>\n",
       "      <td>82</td>\n",
       "      <td>54</td>\n",
       "    </tr>\n",
       "    <tr>\n",
       "      <td>3</td>\n",
       "      <td>Yekaterinburg</td>\n",
       "      <td>1493749</td>\n",
       "      <td>60</td>\n",
       "      <td>56</td>\n",
       "    </tr>\n",
       "    <tr>\n",
       "      <td>4</td>\n",
       "      <td>Kazan</td>\n",
       "      <td>1257391</td>\n",
       "      <td>49</td>\n",
       "      <td>55</td>\n",
       "    </tr>\n",
       "  </tbody>\n",
       "</table>\n",
       "</div>"
      ],
      "text/plain": [
       "               name  population  lng  lat\n",
       "0            Moscow    12480481   37   55\n",
       "1  Saint Petersburg     5398064   30   59\n",
       "2       Novosibirsk     1625631   82   54\n",
       "3     Yekaterinburg     1493749   60   56\n",
       "4             Kazan     1257391   49   55"
      ]
     },
     "execution_count": 13,
     "metadata": {},
     "output_type": "execute_result"
    }
   ],
   "source": [
    "city.head()"
   ]
  },
  {
   "cell_type": "code",
   "execution_count": 14,
   "metadata": {},
   "outputs": [
    {
     "data": {
      "text/plain": [
       "0       37\n",
       "1       30\n",
       "2       82\n",
       "3       60\n",
       "4       49\n",
       "      ... \n",
       "312     66\n",
       "313     38\n",
       "314     32\n",
       "315     36\n",
       "316    103\n",
       "Name: lng, Length: 317, dtype: int32"
      ]
     },
     "execution_count": 14,
     "metadata": {},
     "output_type": "execute_result"
    }
   ],
   "source": [
    "city['lng']"
   ]
  },
  {
   "cell_type": "code",
   "execution_count": 15,
   "metadata": {},
   "outputs": [],
   "source": [
    "# Вычисление расстояния между двумя точками на сфере\n",
    "def distance(llat1, llong1, llat2, llong2):\n",
    "    #pi - число pi, rad - радиус сферы (Земли)\n",
    "    rad = 6372795\n",
    "\n",
    "#     #координаты двух точек\n",
    "#     llat1 = 77.1539\n",
    "#     llong1 = -120.398\n",
    "\n",
    "#     llat2 = 77.1804\n",
    "#     llong2 = 129.55\n",
    "\n",
    "    #в радианах\n",
    "    lat1 = llat1*math.pi/180.\n",
    "    lat2 = llat2*math.pi/180.\n",
    "    long1 = llong1*math.pi/180.\n",
    "    long2 = llong2*math.pi/180.\n",
    "\n",
    "    #косинусы и синусы широт и разницы долгот\n",
    "    cl1 = math.cos(lat1)\n",
    "    cl2 = math.cos(lat2)\n",
    "    sl1 = math.sin(lat1)\n",
    "    sl2 = math.sin(lat2)\n",
    "    delta = long2 - long1\n",
    "    cdelta = math.cos(delta)\n",
    "    sdelta = math.sin(delta)\n",
    "\n",
    "    #вычисления длины большого круга\n",
    "    y = math.sqrt(math.pow(cl2*sdelta,2) + math.pow(cl1*sl2-sl1*cl2*cdelta,2))\n",
    "    x = sl1*sl2 + cl1*cl2*cdelta\n",
    "    ad = math.atan2(y,x)\n",
    "    dist = ad*rad\n",
    "\n",
    "    return dist"
   ]
  },
  {
   "cell_type": "code",
   "execution_count": 16,
   "metadata": {},
   "outputs": [],
   "source": [
    "lst = list()"
   ]
  },
  {
   "cell_type": "code",
   "execution_count": 17,
   "metadata": {
    "scrolled": true
   },
   "outputs": [],
   "source": [
    "for i in range(len(city)-1):\n",
    "    for j in range (i + 1, len(city)):\n",
    "#         dist = ((city['lat'][i] - city['lat'][j])**2 + (city['lng'][i] - city['lng'][j])**2)**(1/2) # вычисление скалярного расстояния\n",
    "        dist = distance(city['lat'][i],city['lng'][i], city['lat'][j], city['lng'][j]) # вычисление по сфере\n",
    "        lst.append([ dist, city['name'][i], city['name'][j], city['population'][i], city['population'][j] ])"
   ]
  },
  {
   "cell_type": "code",
   "execution_count": 18,
   "metadata": {},
   "outputs": [
    {
     "data": {
      "text/plain": [
       "50086"
      ]
     },
     "execution_count": 18,
     "metadata": {},
     "output_type": "execute_result"
    }
   ],
   "source": [
    "len (lst)"
   ]
  },
  {
   "cell_type": "code",
   "execution_count": 19,
   "metadata": {},
   "outputs": [
    {
     "data": {
      "text/plain": [
       "317"
      ]
     },
     "execution_count": 19,
     "metadata": {},
     "output_type": "execute_result"
    }
   ],
   "source": [
    "len(city)"
   ]
  },
  {
   "cell_type": "code",
   "execution_count": 26,
   "metadata": {},
   "outputs": [],
   "source": [
    "res = pd.DataFrame(lst, columns=['dist', 'city_1', 'city_2', 'population_1', 'population_2'] )"
   ]
  },
  {
   "cell_type": "code",
   "execution_count": 27,
   "metadata": {},
   "outputs": [
    {
     "data": {
      "text/html": [
       "<div>\n",
       "<style scoped>\n",
       "    .dataframe tbody tr th:only-of-type {\n",
       "        vertical-align: middle;\n",
       "    }\n",
       "\n",
       "    .dataframe tbody tr th {\n",
       "        vertical-align: top;\n",
       "    }\n",
       "\n",
       "    .dataframe thead th {\n",
       "        text-align: right;\n",
       "    }\n",
       "</style>\n",
       "<table border=\"1\" class=\"dataframe\">\n",
       "  <thead>\n",
       "    <tr style=\"text-align: right;\">\n",
       "      <th></th>\n",
       "      <th>dist</th>\n",
       "      <th>city_1</th>\n",
       "      <th>city_2</th>\n",
       "      <th>population_1</th>\n",
       "      <th>population_2</th>\n",
       "    </tr>\n",
       "  </thead>\n",
       "  <tbody>\n",
       "    <tr>\n",
       "      <td>0</td>\n",
       "      <td>6.140087e+05</td>\n",
       "      <td>Moscow</td>\n",
       "      <td>Saint Petersburg</td>\n",
       "      <td>12480481</td>\n",
       "      <td>5398064</td>\n",
       "    </tr>\n",
       "    <tr>\n",
       "      <td>1</td>\n",
       "      <td>2.858151e+06</td>\n",
       "      <td>Moscow</td>\n",
       "      <td>Novosibirsk</td>\n",
       "      <td>12480481</td>\n",
       "      <td>1625631</td>\n",
       "    </tr>\n",
       "    <tr>\n",
       "      <td>2</td>\n",
       "      <td>1.446497e+06</td>\n",
       "      <td>Moscow</td>\n",
       "      <td>Yekaterinburg</td>\n",
       "      <td>12480481</td>\n",
       "      <td>1493749</td>\n",
       "    </tr>\n",
       "    <tr>\n",
       "      <td>3</td>\n",
       "      <td>7.646212e+05</td>\n",
       "      <td>Moscow</td>\n",
       "      <td>Kazan</td>\n",
       "      <td>12480481</td>\n",
       "      <td>1257391</td>\n",
       "    </tr>\n",
       "    <tr>\n",
       "      <td>4</td>\n",
       "      <td>4.545845e+05</td>\n",
       "      <td>Moscow</td>\n",
       "      <td>Nizhny Novgorod</td>\n",
       "      <td>12480481</td>\n",
       "      <td>1252236</td>\n",
       "    </tr>\n",
       "    <tr>\n",
       "      <td>...</td>\n",
       "      <td>...</td>\n",
       "      <td>...</td>\n",
       "      <td>...</td>\n",
       "      <td>...</td>\n",
       "      <td>...</td>\n",
       "    </tr>\n",
       "    <tr>\n",
       "      <td>50081</td>\n",
       "      <td>1.231508e+06</td>\n",
       "      <td>Timashyovsk</td>\n",
       "      <td>Solnechnogorsk</td>\n",
       "      <td>50792</td>\n",
       "      <td>50169</td>\n",
       "    </tr>\n",
       "    <tr>\n",
       "      <td>50082</td>\n",
       "      <td>4.657964e+06</td>\n",
       "      <td>Timashyovsk</td>\n",
       "      <td>Cheremkhovo</td>\n",
       "      <td>50792</td>\n",
       "      <td>50154</td>\n",
       "    </tr>\n",
       "    <tr>\n",
       "      <td>50083</td>\n",
       "      <td>4.103158e+05</td>\n",
       "      <td>Kirishi</td>\n",
       "      <td>Solnechnogorsk</td>\n",
       "      <td>50525</td>\n",
       "      <td>50169</td>\n",
       "    </tr>\n",
       "    <tr>\n",
       "      <td>50084</td>\n",
       "      <td>4.252761e+06</td>\n",
       "      <td>Kirishi</td>\n",
       "      <td>Cheremkhovo</td>\n",
       "      <td>50525</td>\n",
       "      <td>50154</td>\n",
       "    </tr>\n",
       "    <tr>\n",
       "      <td>50085</td>\n",
       "      <td>4.168487e+06</td>\n",
       "      <td>Solnechnogorsk</td>\n",
       "      <td>Cheremkhovo</td>\n",
       "      <td>50169</td>\n",
       "      <td>50154</td>\n",
       "    </tr>\n",
       "  </tbody>\n",
       "</table>\n",
       "<p>50086 rows × 5 columns</p>\n",
       "</div>"
      ],
      "text/plain": [
       "               dist          city_1            city_2  population_1  \\\n",
       "0      6.140087e+05          Moscow  Saint Petersburg      12480481   \n",
       "1      2.858151e+06          Moscow       Novosibirsk      12480481   \n",
       "2      1.446497e+06          Moscow     Yekaterinburg      12480481   \n",
       "3      7.646212e+05          Moscow             Kazan      12480481   \n",
       "4      4.545845e+05          Moscow   Nizhny Novgorod      12480481   \n",
       "...             ...             ...               ...           ...   \n",
       "50081  1.231508e+06     Timashyovsk    Solnechnogorsk         50792   \n",
       "50082  4.657964e+06     Timashyovsk       Cheremkhovo         50792   \n",
       "50083  4.103158e+05         Kirishi    Solnechnogorsk         50525   \n",
       "50084  4.252761e+06         Kirishi       Cheremkhovo         50525   \n",
       "50085  4.168487e+06  Solnechnogorsk       Cheremkhovo         50169   \n",
       "\n",
       "       population_2  \n",
       "0           5398064  \n",
       "1           1625631  \n",
       "2           1493749  \n",
       "3           1257391  \n",
       "4           1252236  \n",
       "...             ...  \n",
       "50081         50169  \n",
       "50082         50154  \n",
       "50083         50169  \n",
       "50084         50154  \n",
       "50085         50154  \n",
       "\n",
       "[50086 rows x 5 columns]"
      ]
     },
     "execution_count": 27,
     "metadata": {},
     "output_type": "execute_result"
    }
   ],
   "source": [
    "res"
   ]
  },
  {
   "cell_type": "code",
   "execution_count": 28,
   "metadata": {},
   "outputs": [
    {
     "data": {
      "text/plain": [
       "array([ 614008.67370033, 2858151.45024836, 1446497.40572762, ...,\n",
       "       2482522.80932432, 4252760.560026  , 4168486.99204907])"
      ]
     },
     "execution_count": 28,
     "metadata": {},
     "output_type": "execute_result"
    }
   ],
   "source": [
    "res['dist'].unique()"
   ]
  },
  {
   "cell_type": "code",
   "execution_count": 29,
   "metadata": {
    "scrolled": false
   },
   "outputs": [
    {
     "data": {
      "text/html": [
       "<div>\n",
       "<style scoped>\n",
       "    .dataframe tbody tr th:only-of-type {\n",
       "        vertical-align: middle;\n",
       "    }\n",
       "\n",
       "    .dataframe tbody tr th {\n",
       "        vertical-align: top;\n",
       "    }\n",
       "\n",
       "    .dataframe thead th {\n",
       "        text-align: right;\n",
       "    }\n",
       "</style>\n",
       "<table border=\"1\" class=\"dataframe\">\n",
       "  <thead>\n",
       "    <tr style=\"text-align: right;\">\n",
       "      <th></th>\n",
       "      <th>dist</th>\n",
       "      <th>city_1</th>\n",
       "      <th>city_2</th>\n",
       "      <th>population_1</th>\n",
       "      <th>population_2</th>\n",
       "    </tr>\n",
       "  </thead>\n",
       "  <tbody>\n",
       "    <tr>\n",
       "      <td>36</td>\n",
       "      <td>0.0</td>\n",
       "      <td>Moscow</td>\n",
       "      <td>Balashikha</td>\n",
       "      <td>12480481</td>\n",
       "      <td>507366</td>\n",
       "    </tr>\n",
       "    <tr>\n",
       "      <td>63</td>\n",
       "      <td>0.0</td>\n",
       "      <td>Moscow</td>\n",
       "      <td>Podolsk</td>\n",
       "      <td>12480481</td>\n",
       "      <td>308130</td>\n",
       "    </tr>\n",
       "    <tr>\n",
       "      <td>74</td>\n",
       "      <td>0.0</td>\n",
       "      <td>Moscow</td>\n",
       "      <td>Khimki</td>\n",
       "      <td>12480481</td>\n",
       "      <td>259550</td>\n",
       "    </tr>\n",
       "    <tr>\n",
       "      <td>80</td>\n",
       "      <td>0.0</td>\n",
       "      <td>Moscow</td>\n",
       "      <td>Mytishchi</td>\n",
       "      <td>12480481</td>\n",
       "      <td>235504</td>\n",
       "    </tr>\n",
       "    <tr>\n",
       "      <td>87</td>\n",
       "      <td>0.0</td>\n",
       "      <td>Moscow</td>\n",
       "      <td>Korolyov</td>\n",
       "      <td>12480481</td>\n",
       "      <td>225858</td>\n",
       "    </tr>\n",
       "    <tr>\n",
       "      <td>...</td>\n",
       "      <td>...</td>\n",
       "      <td>...</td>\n",
       "      <td>...</td>\n",
       "      <td>...</td>\n",
       "      <td>...</td>\n",
       "    </tr>\n",
       "    <tr>\n",
       "      <td>48666</td>\n",
       "      <td>0.0</td>\n",
       "      <td>Polevskoy</td>\n",
       "      <td>Beryozovsky</td>\n",
       "      <td>60979</td>\n",
       "      <td>59030</td>\n",
       "    </tr>\n",
       "    <tr>\n",
       "      <td>48699</td>\n",
       "      <td>0.0</td>\n",
       "      <td>Polevskoy</td>\n",
       "      <td>Snezhinsk</td>\n",
       "      <td>60979</td>\n",
       "      <td>51751</td>\n",
       "    </tr>\n",
       "    <tr>\n",
       "      <td>48978</td>\n",
       "      <td>0.0</td>\n",
       "      <td>Kumertau</td>\n",
       "      <td>Meleuz</td>\n",
       "      <td>59478</td>\n",
       "      <td>56677</td>\n",
       "    </tr>\n",
       "    <tr>\n",
       "      <td>49257</td>\n",
       "      <td>0.0</td>\n",
       "      <td>Beryozovsky</td>\n",
       "      <td>Snezhinsk</td>\n",
       "      <td>59030</td>\n",
       "      <td>51751</td>\n",
       "    </tr>\n",
       "    <tr>\n",
       "      <td>49466</td>\n",
       "      <td>0.0</td>\n",
       "      <td>Alexandrov</td>\n",
       "      <td>Dzerzhinsky</td>\n",
       "      <td>57899</td>\n",
       "      <td>56376</td>\n",
       "    </tr>\n",
       "  </tbody>\n",
       "</table>\n",
       "<p>255 rows × 5 columns</p>\n",
       "</div>"
      ],
      "text/plain": [
       "       dist       city_1       city_2  population_1  population_2\n",
       "36      0.0       Moscow   Balashikha      12480481        507366\n",
       "63      0.0       Moscow      Podolsk      12480481        308130\n",
       "74      0.0       Moscow       Khimki      12480481        259550\n",
       "80      0.0       Moscow    Mytishchi      12480481        235504\n",
       "87      0.0       Moscow     Korolyov      12480481        225858\n",
       "...     ...          ...          ...           ...           ...\n",
       "48666   0.0    Polevskoy  Beryozovsky         60979         59030\n",
       "48699   0.0    Polevskoy    Snezhinsk         60979         51751\n",
       "48978   0.0     Kumertau       Meleuz         59478         56677\n",
       "49257   0.0  Beryozovsky    Snezhinsk         59030         51751\n",
       "49466   0.0   Alexandrov  Dzerzhinsky         57899         56376\n",
       "\n",
       "[255 rows x 5 columns]"
      ]
     },
     "execution_count": 29,
     "metadata": {},
     "output_type": "execute_result"
    }
   ],
   "source": [
    "# добавляем ограничение на дистанцию\n",
    "res = res[res['dist'] < 150 ]\n",
    "res"
   ]
  },
  {
   "cell_type": "markdown",
   "metadata": {},
   "source": [
    "<b> Текущая API округляет координаты и тем самым близкие города показывают нулевое расстояние. При подборе нужного API можно добиться точных результатов. </b>"
   ]
  },
  {
   "cell_type": "markdown",
   "metadata": {},
   "source": [
    "Челленджи:\n",
    "* Сложность найти общие данные по городам. Были найдены только список городов или сайт, на котором полные данные предоставляются после оплаты. Плохая структурированность Росстата - проще произвести парсинг, чем разобраться в интерфейсе данного сайта\n",
    "* Неполные геоданные городов.\n",
    "* По собственной инициативе были взяты города РФ. Решение обусловлено, поскольку компания МТС предлагает свои услуги на территории этой страны"
   ]
  },
  {
   "cell_type": "markdown",
   "metadata": {},
   "source": [
    "### Saving of results"
   ]
  },
  {
   "cell_type": "code",
   "execution_count": 24,
   "metadata": {},
   "outputs": [],
   "source": [
    "res.to_csv('city_Salkov_vacancy_BigData.csv')"
   ]
  }
 ],
 "metadata": {
  "kernelspec": {
   "display_name": "Python 3",
   "language": "python",
   "name": "python3"
  },
  "language_info": {
   "codemirror_mode": {
    "name": "ipython",
    "version": 3
   },
   "file_extension": ".py",
   "mimetype": "text/x-python",
   "name": "python",
   "nbconvert_exporter": "python",
   "pygments_lexer": "ipython3",
   "version": "3.7.4"
  }
 },
 "nbformat": 4,
 "nbformat_minor": 2
}
